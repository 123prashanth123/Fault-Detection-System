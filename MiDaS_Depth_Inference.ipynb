{
  "nbformat": 4,
  "nbformat_minor": 0,
  "metadata": {
    "colab": {
      "name": "MiDaS Depth Inference.ipynb",
      "provenance": [],
      "collapsed_sections": [],
      "authorship_tag": "ABX9TyMaAsiUC7KArrOMyDv1NyWK",
      "include_colab_link": true
    },
    "kernelspec": {
      "name": "python3",
      "display_name": "Python 3"
    },
    "language_info": {
      "name": "python"
    },
    "widgets": {
      "application/vnd.jupyter.widget-state+json": {
        "1ac790b6b7314f7eb8bf599653b2cfa5": {
          "model_module": "@jupyter-widgets/controls",
          "model_name": "HBoxModel",
          "state": {
            "_view_name": "HBoxView",
            "_dom_classes": [],
            "_model_name": "HBoxModel",
            "_view_module": "@jupyter-widgets/controls",
            "_model_module_version": "1.5.0",
            "_view_count": null,
            "_view_module_version": "1.5.0",
            "box_style": "",
            "layout": "IPY_MODEL_2a1155058c73442c8edbece69a71220c",
            "_model_module": "@jupyter-widgets/controls",
            "children": [
              "IPY_MODEL_76940b46f22d490998283a6f4e68c779",
              "IPY_MODEL_d0447f687fb44158aa5f66f208b3cea1"
            ]
          }
        },
        "2a1155058c73442c8edbece69a71220c": {
          "model_module": "@jupyter-widgets/base",
          "model_name": "LayoutModel",
          "state": {
            "_view_name": "LayoutView",
            "grid_template_rows": null,
            "right": null,
            "justify_content": null,
            "_view_module": "@jupyter-widgets/base",
            "overflow": null,
            "_model_module_version": "1.2.0",
            "_view_count": null,
            "flex_flow": null,
            "width": null,
            "min_width": null,
            "border": null,
            "align_items": null,
            "bottom": null,
            "_model_module": "@jupyter-widgets/base",
            "top": null,
            "grid_column": null,
            "overflow_y": null,
            "overflow_x": null,
            "grid_auto_flow": null,
            "grid_area": null,
            "grid_template_columns": null,
            "flex": null,
            "_model_name": "LayoutModel",
            "justify_items": null,
            "grid_row": null,
            "max_height": null,
            "align_content": null,
            "visibility": null,
            "align_self": null,
            "height": null,
            "min_height": null,
            "padding": null,
            "grid_auto_rows": null,
            "grid_gap": null,
            "max_width": null,
            "order": null,
            "_view_module_version": "1.2.0",
            "grid_template_areas": null,
            "object_position": null,
            "object_fit": null,
            "grid_auto_columns": null,
            "margin": null,
            "display": null,
            "left": null
          }
        },
        "76940b46f22d490998283a6f4e68c779": {
          "model_module": "@jupyter-widgets/controls",
          "model_name": "FloatProgressModel",
          "state": {
            "_view_name": "ProgressView",
            "style": "IPY_MODEL_ba8154d0a5bf4baa96ae622797ee2367",
            "_dom_classes": [],
            "description": "100%",
            "_model_name": "FloatProgressModel",
            "bar_style": "success",
            "max": 1376378527,
            "_view_module": "@jupyter-widgets/controls",
            "_model_module_version": "1.5.0",
            "value": 1376378527,
            "_view_count": null,
            "_view_module_version": "1.5.0",
            "orientation": "horizontal",
            "min": 0,
            "description_tooltip": null,
            "_model_module": "@jupyter-widgets/controls",
            "layout": "IPY_MODEL_1d3cbc3ee2f14f69a2140a30a5a47454"
          }
        },
        "d0447f687fb44158aa5f66f208b3cea1": {
          "model_module": "@jupyter-widgets/controls",
          "model_name": "HTMLModel",
          "state": {
            "_view_name": "HTMLView",
            "style": "IPY_MODEL_97607d2f5cae44e0b34378b2f92cfef7",
            "_dom_classes": [],
            "description": "",
            "_model_name": "HTMLModel",
            "placeholder": "​",
            "_view_module": "@jupyter-widgets/controls",
            "_model_module_version": "1.5.0",
            "value": " 1.28G/1.28G [01:27&lt;00:00, 15.7MB/s]",
            "_view_count": null,
            "_view_module_version": "1.5.0",
            "description_tooltip": null,
            "_model_module": "@jupyter-widgets/controls",
            "layout": "IPY_MODEL_158a4ce578fb41618b7425de61607184"
          }
        },
        "ba8154d0a5bf4baa96ae622797ee2367": {
          "model_module": "@jupyter-widgets/controls",
          "model_name": "ProgressStyleModel",
          "state": {
            "_view_name": "StyleView",
            "_model_name": "ProgressStyleModel",
            "description_width": "initial",
            "_view_module": "@jupyter-widgets/base",
            "_model_module_version": "1.5.0",
            "_view_count": null,
            "_view_module_version": "1.2.0",
            "bar_color": null,
            "_model_module": "@jupyter-widgets/controls"
          }
        },
        "1d3cbc3ee2f14f69a2140a30a5a47454": {
          "model_module": "@jupyter-widgets/base",
          "model_name": "LayoutModel",
          "state": {
            "_view_name": "LayoutView",
            "grid_template_rows": null,
            "right": null,
            "justify_content": null,
            "_view_module": "@jupyter-widgets/base",
            "overflow": null,
            "_model_module_version": "1.2.0",
            "_view_count": null,
            "flex_flow": null,
            "width": null,
            "min_width": null,
            "border": null,
            "align_items": null,
            "bottom": null,
            "_model_module": "@jupyter-widgets/base",
            "top": null,
            "grid_column": null,
            "overflow_y": null,
            "overflow_x": null,
            "grid_auto_flow": null,
            "grid_area": null,
            "grid_template_columns": null,
            "flex": null,
            "_model_name": "LayoutModel",
            "justify_items": null,
            "grid_row": null,
            "max_height": null,
            "align_content": null,
            "visibility": null,
            "align_self": null,
            "height": null,
            "min_height": null,
            "padding": null,
            "grid_auto_rows": null,
            "grid_gap": null,
            "max_width": null,
            "order": null,
            "_view_module_version": "1.2.0",
            "grid_template_areas": null,
            "object_position": null,
            "object_fit": null,
            "grid_auto_columns": null,
            "margin": null,
            "display": null,
            "left": null
          }
        },
        "97607d2f5cae44e0b34378b2f92cfef7": {
          "model_module": "@jupyter-widgets/controls",
          "model_name": "DescriptionStyleModel",
          "state": {
            "_view_name": "StyleView",
            "_model_name": "DescriptionStyleModel",
            "description_width": "",
            "_view_module": "@jupyter-widgets/base",
            "_model_module_version": "1.5.0",
            "_view_count": null,
            "_view_module_version": "1.2.0",
            "_model_module": "@jupyter-widgets/controls"
          }
        },
        "158a4ce578fb41618b7425de61607184": {
          "model_module": "@jupyter-widgets/base",
          "model_name": "LayoutModel",
          "state": {
            "_view_name": "LayoutView",
            "grid_template_rows": null,
            "right": null,
            "justify_content": null,
            "_view_module": "@jupyter-widgets/base",
            "overflow": null,
            "_model_module_version": "1.2.0",
            "_view_count": null,
            "flex_flow": null,
            "width": null,
            "min_width": null,
            "border": null,
            "align_items": null,
            "bottom": null,
            "_model_module": "@jupyter-widgets/base",
            "top": null,
            "grid_column": null,
            "overflow_y": null,
            "overflow_x": null,
            "grid_auto_flow": null,
            "grid_area": null,
            "grid_template_columns": null,
            "flex": null,
            "_model_name": "LayoutModel",
            "justify_items": null,
            "grid_row": null,
            "max_height": null,
            "align_content": null,
            "visibility": null,
            "align_self": null,
            "height": null,
            "min_height": null,
            "padding": null,
            "grid_auto_rows": null,
            "grid_gap": null,
            "max_width": null,
            "order": null,
            "_view_module_version": "1.2.0",
            "grid_template_areas": null,
            "object_position": null,
            "object_fit": null,
            "grid_auto_columns": null,
            "margin": null,
            "display": null,
            "left": null
          }
        }
      }
    }
  },
  "cells": [
    {
      "cell_type": "markdown",
      "metadata": {
        "id": "view-in-github",
        "colab_type": "text"
      },
      "source": [
        "<a href=\"https://colab.research.google.com/github/123prashanth123/Fault-Detection-System/blob/Colabs/MiDaS_Depth_Inference.ipynb\" target=\"_parent\"><img src=\"https://colab.research.google.com/assets/colab-badge.svg\" alt=\"Open In Colab\"/></a>"
      ]
    },
    {
      "cell_type": "code",
      "metadata": {
        "colab": {
          "base_uri": "https://localhost:8080/"
        },
        "id": "5M5gEE_m7zZ6",
        "outputId": "cc95ba26-7f17-4a27-9135-abd8a8d5d776"
      },
      "source": [
        "!pip install timm"
      ],
      "execution_count": 1,
      "outputs": [
        {
          "output_type": "stream",
          "text": [
            "Collecting timm\n",
            "  Downloading timm-0.4.12-py3-none-any.whl (376 kB)\n",
            "\u001b[?25l\r\u001b[K     |▉                               | 10 kB 23.5 MB/s eta 0:00:01\r\u001b[K     |█▊                              | 20 kB 27.6 MB/s eta 0:00:01\r\u001b[K     |██▋                             | 30 kB 26.5 MB/s eta 0:00:01\r\u001b[K     |███▌                            | 40 kB 20.2 MB/s eta 0:00:01\r\u001b[K     |████▍                           | 51 kB 8.6 MB/s eta 0:00:01\r\u001b[K     |█████▏                          | 61 kB 9.8 MB/s eta 0:00:01\r\u001b[K     |██████                          | 71 kB 9.5 MB/s eta 0:00:01\r\u001b[K     |███████                         | 81 kB 10.5 MB/s eta 0:00:01\r\u001b[K     |███████▉                        | 92 kB 11.1 MB/s eta 0:00:01\r\u001b[K     |████████▊                       | 102 kB 9.0 MB/s eta 0:00:01\r\u001b[K     |█████████▋                      | 112 kB 9.0 MB/s eta 0:00:01\r\u001b[K     |██████████▍                     | 122 kB 9.0 MB/s eta 0:00:01\r\u001b[K     |███████████▎                    | 133 kB 9.0 MB/s eta 0:00:01\r\u001b[K     |████████████▏                   | 143 kB 9.0 MB/s eta 0:00:01\r\u001b[K     |█████████████                   | 153 kB 9.0 MB/s eta 0:00:01\r\u001b[K     |██████████████                  | 163 kB 9.0 MB/s eta 0:00:01\r\u001b[K     |██████████████▊                 | 174 kB 9.0 MB/s eta 0:00:01\r\u001b[K     |███████████████▋                | 184 kB 9.0 MB/s eta 0:00:01\r\u001b[K     |████████████████▌               | 194 kB 9.0 MB/s eta 0:00:01\r\u001b[K     |█████████████████▍              | 204 kB 9.0 MB/s eta 0:00:01\r\u001b[K     |██████████████████▎             | 215 kB 9.0 MB/s eta 0:00:01\r\u001b[K     |███████████████████▏            | 225 kB 9.0 MB/s eta 0:00:01\r\u001b[K     |████████████████████            | 235 kB 9.0 MB/s eta 0:00:01\r\u001b[K     |████████████████████▉           | 245 kB 9.0 MB/s eta 0:00:01\r\u001b[K     |█████████████████████▊          | 256 kB 9.0 MB/s eta 0:00:01\r\u001b[K     |██████████████████████▋         | 266 kB 9.0 MB/s eta 0:00:01\r\u001b[K     |███████████████████████▌        | 276 kB 9.0 MB/s eta 0:00:01\r\u001b[K     |████████████████████████▍       | 286 kB 9.0 MB/s eta 0:00:01\r\u001b[K     |█████████████████████████▏      | 296 kB 9.0 MB/s eta 0:00:01\r\u001b[K     |██████████████████████████      | 307 kB 9.0 MB/s eta 0:00:01\r\u001b[K     |███████████████████████████     | 317 kB 9.0 MB/s eta 0:00:01\r\u001b[K     |███████████████████████████▉    | 327 kB 9.0 MB/s eta 0:00:01\r\u001b[K     |████████████████████████████▊   | 337 kB 9.0 MB/s eta 0:00:01\r\u001b[K     |█████████████████████████████▌  | 348 kB 9.0 MB/s eta 0:00:01\r\u001b[K     |██████████████████████████████▍ | 358 kB 9.0 MB/s eta 0:00:01\r\u001b[K     |███████████████████████████████▎| 368 kB 9.0 MB/s eta 0:00:01\r\u001b[K     |████████████████████████████████| 376 kB 9.0 MB/s \n",
            "\u001b[?25hRequirement already satisfied: torch>=1.4 in /usr/local/lib/python3.7/dist-packages (from timm) (1.9.0+cu102)\n",
            "Requirement already satisfied: torchvision in /usr/local/lib/python3.7/dist-packages (from timm) (0.10.0+cu102)\n",
            "Requirement already satisfied: typing-extensions in /usr/local/lib/python3.7/dist-packages (from torch>=1.4->timm) (3.7.4.3)\n",
            "Requirement already satisfied: numpy in /usr/local/lib/python3.7/dist-packages (from torchvision->timm) (1.19.5)\n",
            "Requirement already satisfied: pillow>=5.3.0 in /usr/local/lib/python3.7/dist-packages (from torchvision->timm) (7.1.2)\n",
            "Installing collected packages: timm\n",
            "Successfully installed timm-0.4.12\n"
          ],
          "name": "stdout"
        }
      ]
    },
    {
      "cell_type": "code",
      "metadata": {
        "id": "uxqNrDFY78H9"
      },
      "source": [
        "import cv2\n",
        "import torch\n",
        "import matplotlib.pyplot as plt\n",
        "from IPython.display import clear_output\n",
        "\n",
        "import warnings\n",
        "warnings.filterwarnings(\"ignore\")"
      ],
      "execution_count": 2,
      "outputs": []
    },
    {
      "cell_type": "code",
      "metadata": {
        "colab": {
          "base_uri": "https://localhost:8080/",
          "height": 100,
          "referenced_widgets": [
            "1ac790b6b7314f7eb8bf599653b2cfa5",
            "2a1155058c73442c8edbece69a71220c",
            "76940b46f22d490998283a6f4e68c779",
            "d0447f687fb44158aa5f66f208b3cea1",
            "ba8154d0a5bf4baa96ae622797ee2367",
            "1d3cbc3ee2f14f69a2140a30a5a47454",
            "97607d2f5cae44e0b34378b2f92cfef7",
            "158a4ce578fb41618b7425de61607184"
          ]
        },
        "id": "Ja-ulpsO8BSc",
        "outputId": "8b8a3441-3ee4-4659-96fa-85093f50fa5a"
      },
      "source": [
        "model_type = \"DPT_Large\"     # MiDaS v3 - Large     (highest accuracy, slowest inference speed)\n",
        "# model_type = \"DPT_Hybrid\"   # MiDaS v3 - Hybrid    (medium accuracy, medium inference speed)\n",
        "# model_type = \"MiDaS_small\"  # MiDaS v2.1 - Small   (lowest accuracy, highest inference speed)\n",
        "\n",
        "midas = torch.hub.load(\"intel-isl/MiDaS\", model_type)\n",
        "\n",
        "device = torch.device(\"cuda\") if torch.cuda.is_available() else torch.device(\"cpu\")\n",
        "midas.to(device)\n",
        "midas.eval()\n",
        "\n",
        "clear_output()\n",
        "\n",
        "midas_transforms = torch.hub.load(\"intel-isl/MiDaS\", \"transforms\")\n",
        "if model_type == \"DPT_Large\" or model_type == \"DPT_Hybrid\":\n",
        "    transform = midas_transforms.dpt_transform\n",
        "else:\n",
        "    transform = midas_transforms.small_transform"
      ],
      "execution_count": 3,
      "outputs": [
        {
          "output_type": "stream",
          "text": [
            "Using cache found in /root/.cache/torch/hub/intel-isl_MiDaS_master\n"
          ],
          "name": "stderr"
        }
      ]
    },
    {
      "cell_type": "code",
      "metadata": {
        "colab": {
          "base_uri": "https://localhost:8080/",
          "height": 336
        },
        "id": "38RcEtna8Cbs",
        "outputId": "a16bc7ea-6870-4741-ec6b-f24e6334d0e9"
      },
      "source": [
        "image = cv2.cvtColor(src=cv2.imread(\"/content/Snapshot_4.png\", cv2.IMREAD_COLOR), code=cv2.COLOR_BGR2RGB)\n",
        "h, w, _ = image.shape\n",
        "\n",
        "with torch.no_grad():\n",
        "    prediction = midas(transform(image).to(device)).squeeze()\n",
        "\n",
        "output = prediction.cpu().numpy()\n",
        "\n",
        "depth_image = 255 - cv2.resize(src=output, dsize=(w, h), interpolation=cv2.INTER_AREA)\n",
        "\n",
        "plt.figure(figsize=(8, 6))\n",
        "plt.imshow(depth_image, cmap=\"gray\")\n",
        "plt.axis(\"off\")\n",
        "plt.show()"
      ],
      "execution_count": 5,
      "outputs": [
        {
          "output_type": "stream",
          "text": [
            "/usr/local/lib/python3.7/dist-packages/torch/nn/functional.py:3613: UserWarning: Default upsampling behavior when mode=bilinear is changed to align_corners=False since 0.4.0. Please specify align_corners=True if the old behavior is desired. See the documentation of nn.Upsample for details.\n",
            "  \"See the documentation of nn.Upsample for details.\".format(mode)\n"
          ],
          "name": "stderr"
        },
        {
          "output_type": "display_data",
          "data": {
            "image/png": "[encoded data removed]",
            "text/plain": [
              "<Figure size 576x432 with 1 Axes>"
            ]
          },
          "metadata": {
            "tags": [],
            "needs_background": "light"
          }
        }
      ]
    },
    {
      "cell_type": "code",
      "metadata": {
        "id": "KoloqmGlF767"
      },
      "source": [
        ""
      ],
      "execution_count": null,
      "outputs": []
    }
  ]
}